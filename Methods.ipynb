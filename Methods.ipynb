{
 "cells": [
  {
   "cell_type": "code",
   "execution_count": 3,
   "metadata": {},
   "outputs": [],
   "source": [
    "import pandas as pd\n",
    "import matplotlib.pyplot as plt \n",
    "import numpy as np\n",
    "import statsmodels.api as sm\n",
    "from statsmodels.formula.api import ols\n",
    "import time\n",
    "from scipy import stats\n",
    "from nilearn import plotting\n",
    "from nilearn import surface\n",
    "import nibabel\n",
    "from IPython.display import clear_output\n",
    "import ipywidgets\n",
    "from IPython.display import HTML\n",
    "from IPython.display import display\n",
    "thickRes=pd.read_csv('thickRes0.csv')\n",
    "%matplotlib inline"
   ]
  },
  {
   "cell_type": "code",
   "execution_count": 8,
   "metadata": {
    "scrolled": true
   },
   "outputs": [
    {
     "data": {
      "text/html": [
       "<script>\n",
       "code_show=true; \n",
       "function code_toggle() {\n",
       "    if (code_show){\n",
       "        $('div.cell.code_cell.rendered.selected div.input').hide();\n",
       "    } else {\n",
       "        $('div.cell.code_cell.rendered.selected div.input').show();\n",
       "    }\n",
       "    code_show = !code_show\n",
       "} \n",
       "$( document ).ready(code_toggle);\n",
       "</script>\n",
       "To show/hide this cell's raw code input, click <a href=\"javascript:code_toggle()\">here</a>."
      ],
      "text/plain": [
       "<IPython.core.display.HTML object>"
      ]
     },
     "metadata": {},
     "output_type": "display_data"
    }
   ],
   "source": [
    "\n",
    "# Taken from https://stackoverflow.com/questions/31517194/how-to-hide-one-specific-cell-input-or-output-in-ipython-notebook\n",
    "tag = HTML('''<script>\n",
    "code_show=true; \n",
    "function code_toggle() {\n",
    "    if (code_show){\n",
    "        $('div.cell.code_cell.rendered.selected div.input').hide();\n",
    "    } else {\n",
    "        $('div.cell.code_cell.rendered.selected div.input').show();\n",
    "    }\n",
    "    code_show = !code_show\n",
    "} \n",
    "$( document ).ready(code_toggle);\n",
    "</script>\n",
    "To show/hide this cell's raw code input, click <a href=\"javascript:code_toggle()\">here</a>.''')\n",
    "display(tag)#Set up the dictionary for the atlas\n",
    "fscat = {'infl_left': 'lh.inflated.freesurfer.gii',\n",
    "         \"pial_left\": 'lh.central.freesurfer.gii',\n",
    "         \"sulc_left\": 'lh.sqrtsulc.freesurfer.gii',\n",
    "         \"infl_right\": 'rh.inflated.freesurfer.gii',\n",
    "         \"pial_right\": 'rh.central.freesurfer.gii',\n",
    "         \"sulc_right\": 'rh.sqrtsulc.freesurfer.gii',\n",
    "        }\n",
    "\n",
    "\n",
    "# Prepare the figure\n",
    "hemi_list = ipywidgets.widgets.Dropdown(\n",
    "    options=['Right', 'Left'],\n",
    "    value='Right',\n",
    "    description='Hemisphere:',\n",
    "    disabled=False,\n",
    ")\n",
    "\n",
    "mesh_list = ipywidgets.widgets.Dropdown(\n",
    "    options=['Inflated', 'Not Inflated'],\n",
    "    value='Not Inflated',\n",
    "    description='Mesh:',\n",
    "    disabled=False,\n",
    ")\n",
    "\n",
    "stat_list = ipywidgets.widgets.Dropdown(\n",
    "    options=['F-stat', 'Percent Change', 'P-value', 'Effect Size'],\n",
    "    value='Percent Change',\n",
    "    description='Stat:',\n",
    "    disabled=False,\n",
    ")\n",
    "thresh_list = ipywidgets.widgets.Dropdown(\n",
    "    options=['Permutation', 'FDR', 'Uncorrected p', 'No Threshold'],\n",
    "    value='Permutation',\n",
    "    description='Threshold:',\n",
    "    disabled=False,\n",
    ")\n",
    "\n",
    "def genSurf(hemi, mesh, stat, thresh ):\n",
    "    \n",
    "    \n",
    "\n",
    "    show=thickRes[stat]*thickRes[thresh]\n",
    "                  \n",
    "    if hemi=='Right':\n",
    "        sulc='rh.sqrtsulc.freesurfer.gii'\n",
    "        h='_right'\n",
    "        show=np.array(show)[163842:327684]\n",
    "    else:\n",
    "        sulc='lh.sqrtsulc.freesurfer.gii'\n",
    "        h='_left'\n",
    "        show=np.array(show)[0:163842]\n",
    "    if mesh=='Inflated':\n",
    "        m='infl'\n",
    "    else:\n",
    "        m='pial'\n",
    "        \n",
    "    a=plotting.view_surf(fscat[m + h], show , cmap='bwr', symmetric_cmap=True, vmax=np.array(show)[0:163842].max(), threshold=0.000000000000000000000001, bg_map=sulc, colorbar_fontsize=12, colorbar_height=1 )\n",
    "    return a\n",
    "    "
   ]
  },
  {
   "cell_type": "code",
   "execution_count": null,
   "metadata": {},
   "outputs": [],
   "source": [
    "# Create figure\n",
    "\n",
    "clear_output()\n",
    "ipywidgets.interact(genSurf, hemi=hemi_list , mesh=mesh_list, stat=stat_list, thresh=thresh_list)\n"
   ]
  },
  {
   "cell_type": "code",
   "execution_count": 9,
   "metadata": {},
   "outputs": [
    {
     "data": {
      "application/vnd.jupyter.widget-view+json": {
       "model_id": "3737a4f68e584369b0070d3f3e0cdf61",
       "version_major": 2,
       "version_minor": 0
      },
      "text/plain": [
       "interactive(children=(Dropdown(description='Hemisphere:', options=('Right', 'Left'), value='Right'), Dropdown(…"
      ]
     },
     "metadata": {},
     "output_type": "display_data"
    },
    {
     "data": {
      "text/plain": [
       "<function __main__.genSurf(hemi, mesh, stat, thresh)>"
      ]
     },
     "execution_count": 9,
     "metadata": {},
     "output_type": "execute_result"
    }
   ],
   "source": [
    "ipywidgets.interact(genSurf, hemi=hemi_list, mesh=mesh_list, stat=stat_list, thresh=thresh_list)"
   ]
  },
  {
   "cell_type": "code",
   "execution_count": 7,
   "metadata": {},
   "outputs": [
    {
     "data": {
      "text/html": [
       "<script>\n",
       "code_show=true; \n",
       "function code_toggle() {\n",
       "    if (code_show){\n",
       "        $('div.cell.code_cell.rendered.selected div.input').hide();\n",
       "    } else {\n",
       "        $('div.cell.code_cell.rendered.selected div.input').show();\n",
       "    }\n",
       "    code_show = !code_show\n",
       "} \n",
       "$( document ).ready(code_toggle);\n",
       "</script>\n",
       "To show/hide this cell's raw code input, click <a href=\"javascript:code_toggle()\">here</a>."
      ],
      "text/plain": [
       "<IPython.core.display.HTML object>"
      ]
     },
     "metadata": {},
     "output_type": "display_data"
    }
   ],
   "source": [
    "\n",
    "# Taken from https://stackoverflow.com/questions/31517194/how-to-hide-one-specific-cell-input-or-output-in-ipython-notebook\n",
    "tag = HTML('''<script>\n",
    "code_show=true; \n",
    "function code_toggle() {\n",
    "    if (code_show){\n",
    "        $('div.cell.code_cell.rendered.selected div.input').hide();\n",
    "    } else {\n",
    "        $('div.cell.code_cell.rendered.selected div.input').show();\n",
    "    }\n",
    "    code_show = !code_show\n",
    "} \n",
    "$( document ).ready(code_toggle);\n",
    "</script>\n",
    "To show/hide this cell's raw code input, click <a href=\"javascript:code_toggle()\">here</a>.''')\n",
    "display(tag)\n",
    "\n",
    "# Prepare the figure\n",
    "tissue_list = ipywidgets.widgets.Dropdown(\n",
    "    options=['GM', 'WM'],\n",
    "    value='GM',\n",
    "    description='Tissue:',\n",
    "    disabled=False,\n",
    ")\n",
    "\n",
    "plot_list = ipywidgets.widgets.Dropdown(\n",
    "    options=['T1', 'Glass'],\n",
    "    value='T1',\n",
    "    description='Plot:',\n",
    "    disabled=False,\n",
    ")\n",
    "\n",
    "stat_list = ipywidgets.widgets.Dropdown(\n",
    "    options=['F-stat', 'Percent Change', 'P-value', 'Effect Size'],\n",
    "    value='Percent Change',\n",
    "    description='Stat:',\n",
    "    disabled=False,\n",
    ")\n",
    "thresh_list = ipywidgets.widgets.Dropdown(\n",
    "    options=['Permutation', 'FDR', 'Uncorrected p', 'No Threshold'],\n",
    "    value='Permutation',\n",
    "    description='Threshold:',\n",
    "    disabled=False,\n",
    ")\n",
    "\n",
    "def genPlot(tissue, stat, thresh ):\n",
    "    if tissue=='GM':\n",
    "        bg='gmmeanmatlab.nii.gz'\n",
    "        tis='gm'\n",
    "    else:\n",
    "        bg='wmmeanmatlab.nii.gz'\n",
    "        tis='wm'\n",
    "    \n",
    "    if stat=='F-stat':\n",
    "        st='F'\n",
    "    elif stat=='Percent Change':\n",
    "        st='perc'\n",
    "    elif stat=='Uncorrected p':\n",
    "        st='P'\n",
    "    elif stat=='Effect size':\n",
    "        st='D'\n",
    "     \n",
    "    if thresh == 'Permutation':\n",
    "        th='F'\n",
    "    elif thresh == 'FDR':\n",
    "        th='FDR'\n",
    "    elif thresh== 'Uncorrected p':\n",
    "        th='P'\n",
    "    elif thresh=='No Threshold':\n",
    "        th='No'\n",
    "        \n",
    "    file='py/' + tis + 'VBM' + st + '-' + th + '.nii.gz'\n",
    "            \n",
    "\n",
    "    a=plotting.view_img(file, bg_img=bg, draw_cross=False, cmap='seismic', dim=0)\n",
    "    return a\n"
   ]
  },
  {
   "cell_type": "code",
   "execution_count": 11,
   "metadata": {},
   "outputs": [
    {
     "data": {
      "application/vnd.jupyter.widget-view+json": {
       "model_id": "9f3d272644db42deb6a04d3eb02ffcba",
       "version_major": 2,
       "version_minor": 0
      },
      "text/plain": [
       "interactive(children=(Dropdown(description='Tissue:', index=1, options=('GM', 'WM'), value='WM'), Dropdown(des…"
      ]
     },
     "metadata": {},
     "output_type": "display_data"
    },
    {
     "data": {
      "text/plain": [
       "<function __main__.genPlot(tissue, stat, thresh)>"
      ]
     },
     "execution_count": 11,
     "metadata": {},
     "output_type": "execute_result"
    }
   ],
   "source": [
    "clear_output()\n",
    "ipywidgets.interact(genPlot, tissue=tissue_list,stat=stat_list, thresh=thresh_list)"
   ]
  },
  {
   "cell_type": "code",
   "execution_count": null,
   "metadata": {},
   "outputs": [],
   "source": [
    "ipywidgets.interact(genPlot, tissue=tissue_list , stat=stat_list, thresh=thresh_list)"
   ]
  },
  {
   "cell_type": "code",
   "execution_count": null,
   "metadata": {},
   "outputs": [],
   "source": []
  },
  {
   "cell_type": "code",
   "execution_count": null,
   "metadata": {},
   "outputs": [],
   "source": []
  }
 ],
 "metadata": {
  "kernelspec": {
   "display_name": "Python 3",
   "language": "python",
   "name": "python3"
  },
  "language_info": {
   "codemirror_mode": {
    "name": "ipython",
    "version": 3
   },
   "file_extension": ".py",
   "mimetype": "text/x-python",
   "name": "python",
   "nbconvert_exporter": "python",
   "pygments_lexer": "ipython3",
   "version": "3.8.3"
  }
 },
 "nbformat": 4,
 "nbformat_minor": 4
}
